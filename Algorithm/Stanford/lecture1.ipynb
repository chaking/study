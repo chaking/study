{
  "cells": [
    {
      "cell_type": "markdown",
      "metadata": {
        "pycharm": {}
      },
      "source": [
        "# Lecture 1: Multiplication\n",
        "\n",
        "In this IPython notebook, we implement the algorithms that we discussed in class for multiplying integers.\n",
        "\n",
        "## The goal:\n",
        "\n",
        "Multiply two n-digit integers. \n",
        "\n",
        "## The rules: \n",
        "\n",
        "We are allowed to use Python\u0027s built-in multiplication to do one-digit multiplications (eg, 6 times 7), but not any other multiplication (eg, 66 times 77).  We are allowed to use Python\u0027s built-in addition (even of large numbers)."
      ]
    },
    {
      "cell_type": "code",
      "execution_count": 1,
      "metadata": {
        "collapsed": false,
        "pycharm": {
          "is_executing": false
        }
      },
      "outputs": [],
      "source": "# first include a few helper functions that will be useful (like turning integers to digits and back)\nfrom multHelpers import *\n# set up matplotlib, for plotting stuff.\n%matplotlib inline\nimport matplotlib\nimport numpy as np\nimport matplotlib.pyplot as plt"
    },
    {
      "cell_type": "markdown",
      "metadata": {
        "pycharm": {}
      },
      "source": [
        "## Here\u0027s our benchmark: grade-school multiplication.\n",
        "\n",
        "This is probably (equivalent to) the algorithm you learned in grade school."
      ]
    },
    {
      "cell_type": "code",
      "execution_count": 2,
      "metadata": {
        "collapsed": true,
        "pycharm": {
          "is_executing": false
        }
      },
      "outputs": [],
      "source": [
        "# look at each pair of digits, and add them up with appropriate shifts.\n",
        "def gradeSchoolMult( X, Y ): # X and Y are integers\n",
        "    x \u003d getDigits(X)\n",
        "    y \u003d getDigits(Y)\n",
        "    summands \u003d []\n",
        "    for xDigit in range(len(x)):\n",
        "        currentXDigit \u003d x[len(x) - xDigit -1]\n",
        "        z \u003d [0 for i in range(xDigit)] # z is the digits of xDigit times y; start it out with some zeros\n",
        "        carry \u003d 0\n",
        "        for yDigit in range(len(y)):\n",
        "            newProd \u003d getDigits( currentXDigit * y[len(y) - yDigit - 1] + carry )\n",
        "            z.insert( 0, newProd[-1] ) # put the new digit at the front of our new summand\n",
        "            if len(newProd) \u003e 1:\n",
        "                carry \u003d newProd[0]\n",
        "            else:\n",
        "                carry \u003d 0\n",
        "        z.insert(0, carry)\n",
        "        summands.append(makeInt(z))\n",
        "    return sum(summands) # finally add them all together"
      ]
    },
    {
      "cell_type": "code",
      "execution_count": 3,
      "metadata": {
        "collapsed": false,
        "pycharm": {
          "is_executing": false
        }
      },
      "outputs": [
        {
          "name": "stdout",
          "text": [
            "807803114007\n997287067050279969\n"
          ],
          "output_type": "stream"
        }
      ],
      "source": "# make sure it works on an example:\n\n## NOTE: when testing your own code (for anything, not just this class), you\u0027d want to do much more thorough tests!  \n\nX \u003d 1234567\nY \u003d 654321\nprint(gradeSchoolMult(X,Y))\nprint(X*Y*X)"
    },
    {
      "cell_type": "markdown",
      "metadata": {
        "pycharm": {}
      },
      "source": [
        "Now let\u0027s see how long this takes!  We\u0027ll try it a bunch of times and graph it.  \n",
        "\n",
        "#### *NOTE*: Don\u0027t worry too much (at all) about the plotting code below, you\u0027ll never have to generate that for yourself in this course.\n",
        "\n",
        "#### *NOTE*: This should work fine if you installed Jupyter using anaconda but if you did it in a different way you may need to install matplotlib."
      ]
    },
    {
      "cell_type": "code",
      "execution_count": 5,
      "metadata": {
        "collapsed": true,
        "pycharm": {
          "is_executing": false
        }
      },
      "outputs": [],
      "source": "# Generate some evaluation points\nnVals \u003d [2**k for k in range(9)] # let\u0027s try it at a bunch of powers of 2, we\u0027ll see why later...\nnVals +\u003d [k*10 for k in range(10)]\nnVals +\u003d [k*50 for k in range(2,11)]# plus some spaced-out points...\nnVals.sort() # put them in order\n\n# multABunch (included from multABunch.py) just runs this algorithm a bunch of times.\nnValsGS, tValsGS \u003d multABunch(gradeSchoolMult, nVals, numTrials\u003d5)"
    },
    {
      "cell_type": "code",
      "execution_count": 8,
      "metadata": {
        "collapsed": false,
        "pycharm": {
          "is_executing": false
        }
      },
      "outputs": [
        {
          "name": "stdout",
          "text": [
            "nice polynomial is 9.068638847680958 + -0.37269277436374537 *x +  0.003970254333144341 x^2\n"
          ],
          "output_type": "stream"
        },
        {
          "data": {
            "text/plain": "\u003cFigure size 432x288 with 1 Axes\u003e",
            "image/png": "[encoded data removed]"
          },
          "metadata": {
            "needs_background": "light"
          },
          "output_type": "display_data"
        }
      ],
      "source": "# Now make a pretty picture!  \n\nplt.plot(nValsGS, tValsGS, color\u003d\"red\", label\u003d\"Grade School Multiplication on laptop\")\n# after we look at the data, change the False flag to True to fit a quadratic\nif True:\n    coeffs \u003d np.polyfit( nValsGS, tValsGS, 2 )\n    plt.plot(nValsGS, [ coeffs[2] + coeffs[1]*n + coeffs[0]*n**2 for n in nValsGS], color\u003d\"purple\", label\u003d\"nice quadratic\")\n    print(\"nice polynomial is\", coeffs[2] ,\"+\", coeffs[1],\"*x + \", coeffs[0] , \"x^2\")\nplt.xlabel(\"n\")\nplt.ylabel(\"Time(ms)\")\nplt.legend()\nplt.title(\"Multiplying n-digit integers\")\nplt.show()\n"
    },
    {
      "cell_type": "code",
      "execution_count": 16,
      "metadata": {
        "collapsed": false,
        "pycharm": {
          "is_executing": false
        }
      },
      "outputs": [
        {
          "data": {
            "text/plain": "Text(0.5, 1.0, \u0027Multiplying n-digit integers\u0027)"
          },
          "metadata": {},
          "output_type": "execute_result",
          "execution_count": 16
        },
        {
          "data": {
            "text/plain": "\u003cFigure size 432x288 with 1 Axes\u003e",
            "image/png": "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\u003d\u003d\n"
          },
          "metadata": {
            "needs_background": "light"
          },
          "output_type": "display_data"
        }
      ],
      "source": [
        "# Let\u0027s try interpolating this out a bit (see slides for context)\n",
        "\n",
        "nValsTmp \u003d range(10000)\n",
        "plt.plot(nValsTmp, [ coeffs[2] + coeffs[1]*n + coeffs[0]*n**2 for n in nValsTmp], color\u003d\"red\", label\u003d\"GSMult on Laptop (projected via nice quadratic)\")\n",
        "#plt.plot(nValsGS, tValsGS, color\u003d\"red\", label\u003d\"Grade School Multiplication on laptop\")\n",
        "plt.plot(nValsTmp, [ n**(1.6)/10 + 100 for n in nValsTmp], \"--\" , color\u003d\"green\", label\u003d\"Magic Multiplication Algorithm by hand\")\n",
        "plt.plot(nValsTmp, [ n**(2)/10 + 100 for n in nValsTmp], color\u003d\"orange\", label\u003d\"Grade School Multiplication by hand\")\n",
        "plt.xlabel(\"n\")\n",
        "plt.ylabel(\"Time(ms)\")\n",
        "plt.ylim(0,500000)\n",
        "plt.xlim()\n",
        "plt.legend()\n",
        "plt.title(\"Multiplying n-digit integers\")"
      ]
    },
    {
      "cell_type": "markdown",
      "metadata": {
        "pycharm": {}
      },
      "source": [
        "### Now let\u0027s try a divide-and-conquer solution!\n",
        "\n",
        "This algorithm breaks one size-n multiplication into four size n/2 multiplications, and recurses."
      ]
    },
    {
      "cell_type": "code",
      "execution_count": 7,
      "metadata": {
        "collapsed": true,
        "pycharm": {}
      },
      "outputs": [],
      "source": [
        "def divideAndConquerMult1( X, Y ):\n",
        "    return divideAndConquerMult1_helper( getDigits(X), getDigits(Y) )\n",
        "\n",
        "def divideAndConquerMult1_helper( x, y ):\n",
        "    n \u003d max( len(x), len(y) )\n",
        "    # pad the shorter one with zeros until it\u0027s the same length\n",
        "    while len(x) \u003c n:\n",
        "        x.insert(0,0)\n",
        "    while len(y) \u003c n:\n",
        "        y.insert(0,0)\n",
        "    if n \u003d\u003d 1:\n",
        "        return x[0]*y[0] # this is the base case, we are allowed to multiply one-digit integers :)\n",
        "    mid \u003d round(n/2)\n",
        "    xhigh \u003d x[:mid] # this is [ x[0], x[1], ..., x[mid-1] ]\n",
        "    xlow \u003d x[mid:] # this is [ x[mid], ..., x[n-1] ]\n",
        "    yhigh \u003d y[:mid]\n",
        "    ylow \u003d y[mid:]\n",
        "    highhigh \u003d divideAndConquerMult1_helper( xhigh , yhigh )\n",
        "    highlow \u003d divideAndConquerMult1_helper( xhigh , ylow )\n",
        "    lowhigh \u003d divideAndConquerMult1_helper( xlow , yhigh )\n",
        "    lowlow \u003d divideAndConquerMult1_helper( xlow , ylow )\n",
        "    \n",
        "    # now shift things appropriately (see slides for explanation) and add them together\n",
        "    HH \u003d getDigits(highhigh) + [ 0 for i in range(2*(n - mid))]\n",
        "    MID \u003d getDigits(lowhigh + highlow) + [0 for i in range(n-mid)]\n",
        "    LL \u003d getDigits(lowlow)\n",
        "    result \u003d makeInt(HH) + makeInt(MID) + makeInt(LL)\n",
        "    return result"
      ]
    },
    {
      "cell_type": "code",
      "execution_count": 17,
      "metadata": {
        "collapsed": false,
        "pycharm": {
          "is_executing": false
        }
      },
      "outputs": [
        {
          "traceback": [
            "\u001b[0;31m---------------------------------------------------------------------------\u001b[0m",
            "\u001b[0;31mNameError\u001b[0m                                 Traceback (most recent call last)",
            "\u001b[0;32m\u003cipython-input-17-021c86ad6b61\u003e\u001b[0m in \u001b[0;36m\u003cmodule\u003e\u001b[0;34m\u001b[0m\n\u001b[1;32m      3\u001b[0m \u001b[0mX\u001b[0m \u001b[0;34m\u003d\u001b[0m \u001b[0;36m1234567\u001b[0m\u001b[0;34m\u001b[0m\u001b[0;34m\u001b[0m\u001b[0m\n\u001b[1;32m      4\u001b[0m \u001b[0mY\u001b[0m \u001b[0;34m\u003d\u001b[0m \u001b[0;36m654321\u001b[0m\u001b[0;34m\u001b[0m\u001b[0;34m\u001b[0m\u001b[0m\n\u001b[0;32m----\u003e 5\u001b[0;31m \u001b[0mprint\u001b[0m\u001b[0;34m(\u001b[0m\u001b[0mdivideAndConquerMult1\u001b[0m\u001b[0;34m(\u001b[0m\u001b[0mX\u001b[0m\u001b[0;34m,\u001b[0m\u001b[0mY\u001b[0m\u001b[0;34m)\u001b[0m\u001b[0;34m)\u001b[0m\u001b[0;34m\u001b[0m\u001b[0;34m\u001b[0m\u001b[0m\n\u001b[0m\u001b[1;32m      6\u001b[0m \u001b[0mprint\u001b[0m\u001b[0;34m(\u001b[0m\u001b[0mX\u001b[0m\u001b[0;34m*\u001b[0m\u001b[0mY\u001b[0m\u001b[0;34m)\u001b[0m\u001b[0;34m\u001b[0m\u001b[0;34m\u001b[0m\u001b[0m\n",
            "\u001b[0;31mNameError\u001b[0m: name \u0027divideAndConquerMult1\u0027 is not defined"
          ],
          "ename": "NameError",
          "evalue": "name \u0027divideAndConquerMult1\u0027 is not defined",
          "output_type": "error"
        }
      ],
      "source": [
        "# make sure it works on an example:\n",
        "\n",
        "X \u003d 1234567\n",
        "Y \u003d 654321\n",
        "print(divideAndConquerMult1(X,Y))\n",
        "print(X*Y)"
      ]
    },
    {
      "cell_type": "markdown",
      "metadata": {
        "pycharm": {}
      },
      "source": [
        "How fast is this?  Let\u0027s try it!"
      ]
    },
    {
      "cell_type": "code",
      "execution_count": 9,
      "metadata": {
        "collapsed": true,
        "pycharm": {}
      },
      "outputs": [],
      "source": [
        "nValsRec, tValsRec \u003d multABunch(divideAndConquerMult1, nVals, numTrials\u003d5)"
      ]
    },
    {
      "cell_type": "code",
      "execution_count": null,
      "metadata": {
        "collapsed": false,
        "pycharm": {
          "is_executing": true
        }
      },
      "outputs": [],
      "source": [
        "plt.plot(nValsGS, tValsGS, color\u003d\"red\", label\u003d\"Grade School Multiplication\")\n",
        "plt.plot(nValsRec, tValsRec, color\u003d\"blue\", label\u003d\"Divide and Conquer I\")\n",
        "plt.xlabel(\"n\")\n",
        "plt.ylabel(\"Time(ms)\")\n",
        "plt.legend()\n",
        "plt.title(\"Multiplying n-digit integers\")"
      ]
    },
    {
      "cell_type": "markdown",
      "metadata": {
        "pycharm": {}
      },
      "source": [
        "Hmm...pretty hard to tell from this plot which one is asymptotically better.  (And there\u0027s definitely something weird going on at powers of two in the divide-and-conquer implementation above).  We\u0027ll need to turn to some mathematical analysis to understand how this algorithm behaves as n gets large."
      ]
    },
    {
      "cell_type": "markdown",
      "metadata": {
        "collapsed": true,
        "pycharm": {}
      },
      "source": [
        "## Karatsuba multiplication\n",
        "\n",
        "The previous algorithms ended up both using about n^2 operations.  Karatsuba multiplication will do better!  It is also a divide-and-conquer approach, but turns one multiplication of size n into three multiplications of size n/2."
      ]
    },
    {
      "cell_type": "code",
      "execution_count": 18,
      "metadata": {
        "collapsed": true,
        "pycharm": {
          "is_executing": false
        }
      },
      "outputs": [],
      "source": [
        "def karatsuba( X, Y ):\n",
        "    return karatsuba_helper( getDigits(X), getDigits(Y))\n",
        "\n",
        "def karatsuba_helper( x, y ):  \n",
        "    n \u003d max( len(x), len(y) )\n",
        "    # pad the shorter one with zeros until it\u0027s the same length\n",
        "    while len(x) \u003c n:\n",
        "        x.insert(0,0)\n",
        "    while len(y) \u003c n:\n",
        "        y.insert(0,0)\n",
        "    if n \u003d\u003d 1:\n",
        "        return x[0]*y[0] # this is the base case, we are allowed to multiply one-digit integers :)\n",
        "    mid \u003d round(n/2)\n",
        "    xhigh \u003d x[:mid] # this is [ x[0], x[1], ..., x[mid-1] ]\n",
        "    xlow \u003d x[mid:] # this is [ x[mid], ..., x[n-1] ]\n",
        "    yhigh \u003d y[:mid]\n",
        "    ylow \u003d y[mid:]\n",
        "    highhigh \u003d karatsuba_helper( xhigh , yhigh )\n",
        "    lowlow \u003d karatsuba_helper( xlow , ylow )\n",
        "    tmpTerm \u003d karatsuba_helper( getDigits( makeInt(xlow) + makeInt(xhigh) ) , getDigits( makeInt(ylow) + makeInt(yhigh) ) )\n",
        "    middleTerm \u003d tmpTerm - highhigh - lowlow # this is equal to highlow + lowhigh in divideAndConquerMult1\n",
        "    HH \u003d getDigits(highhigh) + [ 0 for i in range(2*(n - mid))]\n",
        "    MID \u003d getDigits(middleTerm) + [0 for i in range(n-mid)]\n",
        "    LL \u003d getDigits(lowlow)\n",
        "    result \u003d makeInt(HH) + makeInt(MID) + makeInt(LL)\n",
        "    return result"
      ]
    },
    {
      "cell_type": "code",
      "execution_count": 12,
      "metadata": {
        "collapsed": false,
        "pycharm": {}
      },
      "outputs": [
        {
          "name": "stdout",
          "output_type": "stream",
          "text": [
            "807803114007\n",
            "807803114007\n"
          ]
        }
      ],
      "source": [
        "# make sure it works on an example:\n",
        "\n",
        "X \u003d 1234567\n",
        "Y \u003d 654321\n",
        "print(karatsuba(X,Y))\n",
        "print(X*Y)"
      ]
    },
    {
      "cell_type": "code",
      "execution_count": 13,
      "metadata": {
        "collapsed": true,
        "pycharm": {}
      },
      "outputs": [],
      "source": [
        "nValsKarat, tValsKarat \u003d multABunch(karatsuba, nVals, numTrials\u003d5)"
      ]
    },
    {
      "cell_type": "code",
      "execution_count": 14,
      "metadata": {
        "collapsed": false,
        "pycharm": {}
      },
      "outputs": [
        {
          "data": {
            "text/plain": [
              "\u003cmatplotlib.text.Text at 0x110199160\u003e"
            ]
          },
          "execution_count": 14,
          "metadata": {},
          "output_type": "execute_result"
        },
        {
          "data": {
            "image/png": "iVBORw0KGgoAAAANSUhEUgAAAY4AAAEWCAYAAABxMXBSAAAABHNCSVQICAgIfAhkiAAAAAlwSFlz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\nlFJKeUUTh1JKKa9o4lBKKeWV/wccnsAoK9uPZAAAAABJRU5ErkJggg\u003d\u003d\n",
            "text/plain": [
              "\u003cmatplotlib.figure.Figure at 0x10fedc1d0\u003e"
            ]
          },
          "metadata": {},
          "output_type": "display_data"
        }
      ],
      "source": [
        "plt.plot(nValsGS, tValsGS, color\u003d\"red\", label\u003d\"Grade School Multiplication\")\n",
        "#plt.plot(nValsRec, tValsRec, color\u003d\"grey\", label\u003d\"Divide and Conquer I\")\n",
        "plt.plot(nValsKarat, tValsKarat, color\u003d\"orange\", label\u003d\"Divide and Conquer II (Karatsuba)\")\n",
        "plt.xlabel(\"n\")\n",
        "plt.ylabel(\"Time(ms)\")\n",
        "plt.legend()\n",
        "plt.title(\"Multiplying n-digit integers\")"
      ]
    },
    {
      "cell_type": "markdown",
      "metadata": {
        "pycharm": {}
      },
      "source": [
        "Cool, it does seem to work better than grade-school multiplication!"
      ]
    },
    {
      "cell_type": "code",
      "execution_count": null,
      "metadata": {
        "collapsed": true,
        "pycharm": {}
      },
      "outputs": [],
      "source": []
    }
  ],
  "metadata": {
    "kernelspec": {
      "display_name": "Python 3",
      "language": "python",
      "name": "python3"
    },
    "language_info": {
      "codemirror_mode": {
        "name": "ipython",
        "version": 3
      },
      "file_extension": ".py",
      "mimetype": "text/x-python",
      "name": "python",
      "nbconvert_exporter": "python",
      "pygments_lexer": "ipython3",
      "version": "3.4.2"
    }
  },
  "nbformat": 4,
  "nbformat_minor": 1
}